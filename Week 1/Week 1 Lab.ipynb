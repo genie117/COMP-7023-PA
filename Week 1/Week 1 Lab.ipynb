{
 "cells": [
  {
   "cell_type": "code",
   "execution_count": 2,
   "id": "3e60f0fa-96b0-48b2-a2a1-a264fa853057",
   "metadata": {},
   "outputs": [],
   "source": [
    "# Q1 - Variables"
   ]
  },
  {
   "cell_type": "code",
   "execution_count": 20,
   "id": "5e39e834-e88b-4923-9428-4582216a9775",
   "metadata": {},
   "outputs": [],
   "source": [
    "## 1. Assign the value 9 to the variable x\n",
    "x = 9"
   ]
  },
  {
   "cell_type": "code",
   "execution_count": 21,
   "id": "744e9579-95a1-47b7-9770-44e657e7135e",
   "metadata": {},
   "outputs": [],
   "source": [
    "## 2. Assign the value 7 to the variable y\n",
    "y = 7"
   ]
  },
  {
   "cell_type": "code",
   "execution_count": 22,
   "id": "6e3696c4-4704-4212-895a-ba47eeddbc6b",
   "metadata": {},
   "outputs": [
    {
     "name": "stdout",
     "output_type": "stream",
     "text": [
      "16\n"
     ]
    }
   ],
   "source": [
    "## 3. Find the sum of x and y and assign to a new variable z\n",
    "z = x + y\n",
    "print(z)"
   ]
  },
  {
   "cell_type": "code",
   "execution_count": 24,
   "id": "f13fbff0-5ac6-448e-8833-475bf58ba637",
   "metadata": {},
   "outputs": [
    {
     "name": "stdout",
     "output_type": "stream",
     "text": [
      "63\n"
     ]
    }
   ],
   "source": [
    "## 4. Find the product of x and y and assignto a new variable z2\n",
    "z2 = x * y\n",
    "print(z2)"
   ]
  },
  {
   "cell_type": "code",
   "execution_count": 25,
   "id": "eaf59dac-9cf7-47cd-94c0-6e4ede8c44e8",
   "metadata": {},
   "outputs": [
    {
     "name": "stdout",
     "output_type": "stream",
     "text": [
      "1.2857142857142858\n"
     ]
    }
   ],
   "source": [
    "## 5. Find the ratio between x and y and assign to a new variable z3. What type of variable is z3?\n",
    "z3 = x / y \n",
    "print(z3)"
   ]
  },
  {
   "cell_type": "code",
   "execution_count": 19,
   "id": "aa64300b-ff3b-4c6b-b12c-6cbdf93f8c95",
   "metadata": {},
   "outputs": [
    {
     "name": "stdout",
     "output_type": "stream",
     "text": [
      "[1, 4, 9, 16, 25]\n"
     ]
    }
   ],
   "source": [
    "## 6. Create a list of the first 5 square values and assign to the variable L.\n",
    "L = [1, 4, 9, 16, 25]\n",
    "print(L)"
   ]
  },
  {
   "cell_type": "code",
   "execution_count": 27,
   "id": "e59330a4-cf30-4614-886f-e8b9e3d28671",
   "metadata": {},
   "outputs": [
    {
     "name": "stdout",
     "output_type": "stream",
     "text": [
      "MontyPythontheFlyingCircus\n",
      "The string assigned to x is: MontyPythontheFlyingCircus\n"
     ]
    }
   ],
   "source": [
    "## 7. Create a string “MontyPythontheFlyingCircus” and assign to the variable x.\n",
    "x = \"MontyPythontheFlyingCircus\"\n",
    "print(x)\n",
    "print(f\"The string assigned to x is: {x}\")"
   ]
  },
  {
   "cell_type": "code",
   "execution_count": 28,
   "id": "b756685e-c687-4cea-86da-5688b06519a6",
   "metadata": {},
   "outputs": [],
   "source": [
    "# Q2 - Operators"
   ]
  },
  {
   "cell_type": "code",
   "execution_count": 39,
   "id": "ce9d5fd0-025c-4e92-a9b0-c2d3f6854267",
   "metadata": {},
   "outputs": [
    {
     "data": {
      "text/plain": [
       "-3"
      ]
     },
     "execution_count": 39,
     "metadata": {},
     "output_type": "execute_result"
    }
   ],
   "source": [
    "## Basic arithmetic \n",
    "## 2.1.1. \n",
    "5 - 8"
   ]
  },
  {
   "cell_type": "code",
   "execution_count": 31,
   "id": "06b5021f-edcb-4961-a517-9d4a57a98c8d",
   "metadata": {},
   "outputs": [
    {
     "data": {
      "text/plain": [
       "18"
      ]
     },
     "execution_count": 31,
     "metadata": {},
     "output_type": "execute_result"
    }
   ],
   "source": [
    "## 2.1.2 \n",
    "6 * 3"
   ]
  },
  {
   "cell_type": "code",
   "execution_count": 32,
   "id": "ef431257-2470-4fb8-b01a-61fc657b4d6c",
   "metadata": {},
   "outputs": [
    {
     "data": {
      "text/plain": [
       "2.7142857142857144"
      ]
     },
     "execution_count": 32,
     "metadata": {},
     "output_type": "execute_result"
    }
   ],
   "source": [
    "## 2.1.3. \n",
    "19 / 7"
   ]
  },
  {
   "cell_type": "code",
   "execution_count": 33,
   "id": "8ffa02c2-aa2e-44b5-b316-7fa7ffad1ea0",
   "metadata": {},
   "outputs": [
    {
     "data": {
      "text/plain": [
       "5"
      ]
     },
     "execution_count": 33,
     "metadata": {},
     "output_type": "execute_result"
    }
   ],
   "source": [
    "## 2.1.4. remainder of 19 / 7 \n",
    "19 % 7"
   ]
  },
  {
   "cell_type": "code",
   "execution_count": 34,
   "id": "5972f653-499c-48db-9439-0b5a3d8297c9",
   "metadata": {},
   "outputs": [
    {
     "data": {
      "text/plain": [
       "2"
      ]
     },
     "execution_count": 34,
     "metadata": {},
     "output_type": "execute_result"
    }
   ],
   "source": [
    "## 2.1.5. integer result of 19 / 7\n",
    "19//7"
   ]
  },
  {
   "cell_type": "code",
   "execution_count": 35,
   "id": "5fedc901-db48-4de1-acc2-e26be2b738aa",
   "metadata": {},
   "outputs": [
    {
     "data": {
      "text/plain": [
       "64"
      ]
     },
     "execution_count": 35,
     "metadata": {},
     "output_type": "execute_result"
    }
   ],
   "source": [
    "## 2.1.6. \n",
    "8 ** 2"
   ]
  },
  {
   "cell_type": "code",
   "execution_count": 36,
   "id": "7459d66c-37eb-49f8-b252-e8e2ce6a83c2",
   "metadata": {},
   "outputs": [
    {
     "data": {
      "text/plain": [
       "1296"
      ]
     },
     "execution_count": 36,
     "metadata": {},
     "output_type": "execute_result"
    }
   ],
   "source": [
    "## 2.1.7. \n",
    "6 ** 4"
   ]
  },
  {
   "cell_type": "code",
   "execution_count": 37,
   "id": "345f65aa-7653-4ab8-996d-9731d08efa0b",
   "metadata": {},
   "outputs": [
    {
     "data": {
      "text/plain": [
       "49"
      ]
     },
     "execution_count": 37,
     "metadata": {},
     "output_type": "execute_result"
    }
   ],
   "source": [
    "## 2.1.8. \n",
    "(3+4) * 7"
   ]
  },
  {
   "cell_type": "code",
   "execution_count": 38,
   "id": "b156fd96-01dd-4b11-98f7-efe2bdffc5b6",
   "metadata": {},
   "outputs": [
    {
     "data": {
      "text/plain": [
       "2048"
      ]
     },
     "execution_count": 38,
     "metadata": {},
     "output_type": "execute_result"
    }
   ],
   "source": [
    "## 2.1.9. \n",
    "2**(4+7)"
   ]
  },
  {
   "cell_type": "code",
   "execution_count": 42,
   "id": "ca960aa4-9266-4213-b4e3-b182ceaad39d",
   "metadata": {},
   "outputs": [
    {
     "name": "stdout",
     "output_type": "stream",
     "text": [
      "13\n"
     ]
    }
   ],
   "source": [
    "## 2.2.1. add 3 to x, and assign to x\n",
    "x = 10\n",
    "x = x + 3\n",
    "print(x)"
   ]
  },
  {
   "cell_type": "code",
   "execution_count": 43,
   "id": "7f2621db-9a18-4284-8b33-76dbcb1cf78c",
   "metadata": {},
   "outputs": [
    {
     "name": "stdout",
     "output_type": "stream",
     "text": [
      "6.5\n"
     ]
    }
   ],
   "source": [
    "## 2.2.2. divide x by 2, and assign to z \n",
    "z = x / 2\n",
    "print(z)"
   ]
  },
  {
   "cell_type": "code",
   "execution_count": 44,
   "id": "dccf2a4a-548c-4524-b1a3-a53b673f8dd0",
   "metadata": {},
   "outputs": [
    {
     "name": "stdout",
     "output_type": "stream",
     "text": [
      "65\n"
     ]
    }
   ],
   "source": [
    "## 2.2.3. given y = 5, calculate x * y and assign to x \n",
    "y = 5\n",
    "x = x * y\n",
    "print(x)"
   ]
  },
  {
   "cell_type": "code",
   "execution_count": 46,
   "id": "38368f00-88c7-4aa4-8072-f462634ae809",
   "metadata": {},
   "outputs": [
    {
     "name": "stdout",
     "output_type": "stream",
     "text": [
      "64\n"
     ]
    }
   ],
   "source": [
    "## 2.2.4. decrement x by 1 \n",
    "x -= 1\n",
    "print(x)"
   ]
  },
  {
   "cell_type": "code",
   "execution_count": 1,
   "id": "cc000e11-d92a-4a1d-b020-697b54e1dba6",
   "metadata": {},
   "outputs": [],
   "source": [
    "# Q3 - Lists, Tuples, Dictionaries, sets"
   ]
  },
  {
   "cell_type": "code",
   "execution_count": 3,
   "id": "514e4f62-5519-4154-8620-320f17cf9ce5",
   "metadata": {},
   "outputs": [
    {
     "name": "stdout",
     "output_type": "stream",
     "text": [
      "[2, 3, 5, 7, 11]\n"
     ]
    }
   ],
   "source": [
    "## 3.1 Lists \n",
    "## 3.1.1. \n",
    "# Create a list of the first 5 prime numbers, and assign to L\n",
    "L = [2, 3, 5, 7, 11]\n",
    "print(L)"
   ]
  },
  {
   "cell_type": "code",
   "execution_count": 4,
   "id": "2512da84-5416-4b18-8ca9-0ccb18169158",
   "metadata": {},
   "outputs": [
    {
     "name": "stdout",
     "output_type": "stream",
     "text": [
      "2\n"
     ]
    }
   ],
   "source": [
    "## 3.1.2. What's the first element of L\n",
    "print(L[0])"
   ]
  },
  {
   "cell_type": "code",
   "execution_count": 5,
   "id": "5655c9d6-2acb-4cb3-88b5-fc207ba84309",
   "metadata": {},
   "outputs": [
    {
     "name": "stdout",
     "output_type": "stream",
     "text": [
      "[2, 3, 5, 7, 11, 13, 17, 19]\n"
     ]
    }
   ],
   "source": [
    "## 3.1.3. Append (add) to the list the next 3 prime numbers\n",
    "L.append(13)\n",
    "L.append(17)\n",
    "L.append(19)\n",
    "print(L)"
   ]
  },
  {
   "cell_type": "code",
   "execution_count": 10,
   "id": "874bba75-5cdf-452f-a563-8cfe79a05749",
   "metadata": {},
   "outputs": [
    {
     "name": "stdout",
     "output_type": "stream",
     "text": [
      "[7, 11, 13, 17, 19]\n"
     ]
    }
   ],
   "source": [
    "## 3.1.4. Get from L the last 5 elements\n",
    "print(L[-5:])"
   ]
  },
  {
   "cell_type": "code",
   "execution_count": 11,
   "id": "f1e7b96a-66a6-4d39-8132-ef1abc0334b4",
   "metadata": {},
   "outputs": [
    {
     "name": "stdout",
     "output_type": "stream",
     "text": [
      "5\n"
     ]
    }
   ],
   "source": [
    "## 3.1.5.  What's element 3 of L \n",
    "print(L[2])"
   ]
  },
  {
   "cell_type": "code",
   "execution_count": 14,
   "id": "1e672a17-2d9d-4a30-8c6d-a348593b6412",
   "metadata": {},
   "outputs": [
    {
     "name": "stdout",
     "output_type": "stream",
     "text": [
      "[3, 7, 13, 19]\n"
     ]
    }
   ],
   "source": [
    "## 3.1.6. Get every 2nd element from L, starting from the second element\n",
    "print(L[1::2]) \n",
    "### :: syntax in Python is used for slicing lists (and other sequence types like strings and tuples).\n",
    "### It allows you to extract a portion of the sequence by specifying a start index, an end index, and a step (stride)."
   ]
  },
  {
   "cell_type": "code",
   "execution_count": 15,
   "id": "f1cf657b-0e45-4e56-93bd-e61e8f9344e0",
   "metadata": {},
   "outputs": [
    {
     "data": {
      "text/plain": [
       "8"
      ]
     },
     "execution_count": 15,
     "metadata": {},
     "output_type": "execute_result"
    }
   ],
   "source": [
    "## 3.1.7. What's the length of the list?\n",
    "len(L)"
   ]
  },
  {
   "cell_type": "code",
   "execution_count": 18,
   "id": "66542c7a-3dfd-4aec-b2a6-b53633c26a5e",
   "metadata": {},
   "outputs": [
    {
     "name": "stdout",
     "output_type": "stream",
     "text": [
      "[2, 3, 5, 7, 11, 13, 17, 19]\n"
     ]
    }
   ],
   "source": [
    "## 3.1.8. Create a copy of L and assign to L2\n",
    "L2 = L[ : ]\n",
    "print(L2)"
   ]
  },
  {
   "cell_type": "code",
   "execution_count": 19,
   "id": "95c1d17b-113e-4c09-876e-c0dac75639e8",
   "metadata": {},
   "outputs": [
    {
     "name": "stdout",
     "output_type": "stream",
     "text": [
      "[2, 3, 5, 88, 11, 13, 17, 19]\n"
     ]
    }
   ],
   "source": [
    "## 3.1.9. Replace element 7 of L2 with the value 88\n",
    "L2[3] = 88\n",
    "print(L2)"
   ]
  },
  {
   "cell_type": "code",
   "execution_count": 20,
   "id": "15096666-87a2-4b47-a4fd-9b071a305c4f",
   "metadata": {},
   "outputs": [
    {
     "name": "stdout",
     "output_type": "stream",
     "text": [
      "[2, 3, 5, 88, 11, 13, 17, 19]\n"
     ]
    }
   ],
   "source": [
    "## 3.1.10. Did you change the values in L?\n",
    "#### yes\n",
    "print(L2)"
   ]
  },
  {
   "cell_type": "code",
   "execution_count": 21,
   "id": "47638de7-df7a-43c8-beef-acd269bc06a6",
   "metadata": {},
   "outputs": [
    {
     "name": "stdout",
     "output_type": "stream",
     "text": [
      "(3, 4)\n"
     ]
    }
   ],
   "source": [
    "## 3.2 Tuples\n",
    "## 3.2.1. Create a tuple for two values: 3, 4, and assign to the variable x\n",
    "x = (3,4) \n",
    "print(x)"
   ]
  },
  {
   "cell_type": "code",
   "execution_count": 23,
   "id": "986f2e0e-c7a7-4f61-897f-e725b7055ec1",
   "metadata": {},
   "outputs": [
    {
     "name": "stdout",
     "output_type": "stream",
     "text": [
      "(3, 'Two')\n"
     ]
    }
   ],
   "source": [
    "## 3.2.2. Create a tuple for two items: the value 3, and the string \"Two\", and assign to x  \n",
    "x = (3, \"Two\")\n",
    "print(x)"
   ]
  },
  {
   "cell_type": "code",
   "execution_count": 24,
   "id": "1320d525-9edb-4b9a-a27c-2bf4f9412034",
   "metadata": {},
   "outputs": [
    {
     "name": "stdout",
     "output_type": "stream",
     "text": [
      "(1, 3, 5, 7, 9)\n"
     ]
    }
   ],
   "source": [
    "## 3.2.3. Create a tuple for the first 5 positive odd integers\n",
    "odd_integers = (1,3,5,7,9)\n",
    "print(odd_integers)"
   ]
  },
  {
   "cell_type": "code",
   "execution_count": 32,
   "id": "128322e1-2aaa-4e05-9519-fdcb32a55b44",
   "metadata": {},
   "outputs": [
    {
     "name": "stdout",
     "output_type": "stream",
     "text": [
      "([1, 2], 'Hello', 3.14)\n"
     ]
    }
   ],
   "source": [
    "## 3.2.4. Create a tuple to include a short two element list, a string, and a float number\n",
    "tuple = ([1,2], \"Hello\", 3.14)\n",
    "print(tuple)"
   ]
  },
  {
   "cell_type": "code",
   "execution_count": 35,
   "id": "c77232b0-66fd-471e-a911-d1aedb613e1f",
   "metadata": {},
   "outputs": [
    {
     "name": "stdout",
     "output_type": "stream",
     "text": [
      "[1, 2]\n",
      "Hello\n",
      "3.14\n"
     ]
    }
   ],
   "source": [
    "## 3.2.5. Unpack the three items from the previous part into separate variable \n",
    "a, b, c = tuple\n",
    "print(a)\n",
    "print(b)\n",
    "print(c)"
   ]
  },
  {
   "cell_type": "code",
   "execution_count": 31,
   "id": "f2218fde-1441-427a-a53f-c3b7a1493efe",
   "metadata": {},
   "outputs": [],
   "source": [
    "## 3.2.6. Can you think of a situation when you should use tuple for your data instead of a list?\n",
    "\n",
    "###- Function Arguments and Return Values: When you want to return multiple values from a function and ensure they are not modified.\n",
    "###- Immutable Data: When you need a collection of values that should remain constant throughout the program.\n",
    "###- Dictionary Keys: Tuples can be used as keys in dictionaries since they are immutable, unlike lists.\n",
    "###- Data Integrity: When you want to protect the data from accidental modification, using tuples can ensure the data integrity."
   ]
  },
  {
   "cell_type": "code",
   "execution_count": 36,
   "id": "54564944-0af7-499e-8e4b-975af83de72f",
   "metadata": {},
   "outputs": [
    {
     "name": "stdout",
     "output_type": "stream",
     "text": [
      "{1: 'one', 2: 'two', 3: 'three', 4: 'four', 5: 'five'}\n"
     ]
    }
   ],
   "source": [
    "## 3.3 Dictionaries \n",
    "## 3.3.1. Create a dictionary mapping the first 5 numbers to their English word\n",
    "number_words = {\n",
    "    1: \"one\",\n",
    "    2: \"two\",\n",
    "    3: \"three\",\n",
    "    4: \"four\",\n",
    "    5: \"five\"\n",
    "}\n",
    "print(number_words)\n"
   ]
  },
  {
   "cell_type": "code",
   "execution_count": 37,
   "id": "570d6c0e-5840-4562-b1f9-14e317ef2be4",
   "metadata": {},
   "outputs": [
    {
     "name": "stdout",
     "output_type": "stream",
     "text": [
      "{'one': 'un', 'two': 'deux', 'three': 'trois', 'four': 'quatre', 'five': 'cinq'}\n"
     ]
    }
   ],
   "source": [
    "## 3.3.2. Create a dictionary apping the English words for number 1-5 to their French equivalent (or a language of your choice)\n",
    "number_words_french = {\n",
    "    \"one\": \"un\",\n",
    "    \"two\": \"deux\",\n",
    "    \"three\": \"trois\",\n",
    "    \"four\": \"quatre\",\n",
    "    \"five\": \"cinq\"\n",
    "}\n",
    "\n",
    "print(number_words_french)\n"
   ]
  },
  {
   "cell_type": "code",
   "execution_count": 41,
   "id": "eae4392a-1a5c-4237-b6b7-5f2d1db77aa5",
   "metadata": {},
   "outputs": [
    {
     "name": "stdout",
     "output_type": "stream",
     "text": [
      "trois\n"
     ]
    }
   ],
   "source": [
    "## 3.3.3. Find the French word for 3 using the two dictinaries you created above\n",
    "\n",
    "# Find the English word for the number 3\n",
    "english3 = number_words[3]\n",
    "# Find the French word for the English word \"three\"\n",
    "french3 = number_words_french[english3]\n",
    "print(french3)"
   ]
  },
  {
   "cell_type": "code",
   "execution_count": 43,
   "id": "3e2ecc60-da56-4204-b5e1-0506297711d8",
   "metadata": {},
   "outputs": [
    {
     "name": "stdout",
     "output_type": "stream",
     "text": [
      "{1: 'one', 2: 'two', 3: 'three', 4: 'four', 5: 'five', 10: 'ten'}\n"
     ]
    }
   ],
   "source": [
    "## 3.3.4. Add a new item in the first dictionary for the number 10. \n",
    "number_words[10] = \"ten\"\n",
    "print(number_words)"
   ]
  },
  {
   "cell_type": "code",
   "execution_count": 44,
   "id": "094fb8da-4477-4016-932e-5ddd7037aa33",
   "metadata": {},
   "outputs": [
    {
     "name": "stdout",
     "output_type": "stream",
     "text": [
      "{'Eric Idle', 'Terry Jones', 'Terry Gilliam', 'John Cleese', 'Michael Palin', 'Graham Chapman'}\n"
     ]
    }
   ],
   "source": [
    "## 3.4 Sets\n",
    "## 3.4.1.  Create a set with the names of the Monty Pythons: Graham Chapman, John Cleese, Terry Gilliam, Eric Idle, Terry Jones, and Michael Palin\n",
    "MontyPythons = {\"Graham Chapman\", \"John Cleese\", \"Terry Gilliam\", \"Eric Idle\", \"Terry Jones\", \"Michael Palin\"}\n",
    "print(MontyPythons)"
   ]
  },
  {
   "cell_type": "code",
   "execution_count": 45,
   "id": "726b691e-567f-4a47-9218-3ab078c81e39",
   "metadata": {},
   "outputs": [
    {
     "name": "stdout",
     "output_type": "stream",
     "text": [
      "{'Terry Jones', 'Graham Chapman'}\n"
     ]
    }
   ],
   "source": [
    "## 3.4.2. Create a new set with names of the Pythons who have passed away: Graham Chapman, Terry Jones\n",
    "deceased = {\"Graham Chapman\", \"Terry Jones\"}\n",
    "print(deceased)"
   ]
  },
  {
   "cell_type": "code",
   "execution_count": 46,
   "id": "1dbba6d2-1bc5-43e5-842c-2d5a9d61a22a",
   "metadata": {},
   "outputs": [
    {
     "name": "stdout",
     "output_type": "stream",
     "text": [
      "{'John Cleese', 'Eric Idle', 'Michael Palin', 'Terry Gilliam'}\n"
     ]
    }
   ],
   "source": [
    "## 3.4.3. Use set operation to find the Pyhthons who are still alive\n",
    "alive = MontyPythons - deceased\n",
    "print(alive)"
   ]
  },
  {
   "cell_type": "code",
   "execution_count": 47,
   "id": "3248be72-abea-42ae-8e0b-dc0633721e22",
   "metadata": {},
   "outputs": [
    {
     "name": "stdout",
     "output_type": "stream",
     "text": [
      "False\n"
     ]
    }
   ],
   "source": [
    "## 3.4.4. Provide the Python code to find if \"Carol CLeveland\" is in the set of Monty Pythons\n",
    "Search = \"Carol CLeveland\" in MontyPythons\n",
    "print(Search)"
   ]
  },
  {
   "cell_type": "code",
   "execution_count": 48,
   "id": "c3e35bcd-3b74-4d0d-871f-974c28bddece",
   "metadata": {},
   "outputs": [],
   "source": [
    "# Q4 - Control Flow"
   ]
  },
  {
   "cell_type": "code",
   "execution_count": null,
   "id": "30454d96-b963-43d7-b613-354693853bea",
   "metadata": {},
   "outputs": [],
   "source": [
    "## 4.1 if Loops\n",
    "## 4.1.1. If x is even, subtract 1 from x.\n"
   ]
  },
  {
   "cell_type": "code",
   "execution_count": null,
   "id": "0032b08b-d15d-4bd8-955a-cf3d451cfda1",
   "metadata": {},
   "outputs": [],
   "source": [
    "## 4.1.2. If x is equal to y, print \"finished\"\n"
   ]
  },
  {
   "cell_type": "code",
   "execution_count": null,
   "id": "e9284ea4-e49b-451e-8964-9d6e4a73c4f8",
   "metadata": {},
   "outputs": [],
   "source": [
    "## 4.1.3. If x is negative, make it positive \n"
   ]
  },
  {
   "cell_type": "code",
   "execution_count": null,
   "id": "196b6d53-0c15-42a8-8cc6-8f20677a2f66",
   "metadata": {},
   "outputs": [],
   "source": [
    "## 4.1.4. If x is equal to \"degrees\", convert y to radians, than compute sin(y), otherwise compute sin(y)\n"
   ]
  },
  {
   "cell_type": "code",
   "execution_count": null,
   "id": "d5fec5af-48de-4be8-9e57-c303d2112a70",
   "metadata": {},
   "outputs": [],
   "source": [
    "## 4.1.5. If x is greater than y and y is greather z, print \"sorted\"\n"
   ]
  },
  {
   "cell_type": "code",
   "execution_count": null,
   "id": "cabf95bb-ee21-4fc2-9235-b2d064b20dac",
   "metadata": {},
   "outputs": [],
   "source": [
    "## 4.1.6. If x is greater than 50 and y is equal to \"residential\" or x is greater than 100 and y is equal to \"freeway\", print \"speeding\", otherwise print \"good speed\".\n"
   ]
  },
  {
   "cell_type": "code",
   "execution_count": null,
   "id": "d20059cd-4021-4880-802c-e579d4540121",
   "metadata": {},
   "outputs": [],
   "source": [
    "## 4.2 for Loops\n",
    "## 4.2.1. Print the numbers 1 to 10, one number at a time\n"
   ]
  },
  {
   "cell_type": "code",
   "execution_count": null,
   "id": "e5783287-a675-4b67-acda-46e4028fbf3e",
   "metadata": {},
   "outputs": [],
   "source": [
    "## 4.2.2. Sum the numbers 1 to 10\n"
   ]
  },
  {
   "cell_type": "code",
   "execution_count": null,
   "id": "dcd7aed6-3518-4803-83a6-b617da414959",
   "metadata": {},
   "outputs": [],
   "source": [
    "## 4.2.3. Count how many items in z = [12, 34, 45, 23, 16] are greater than x (Set x to your favourite number) \n"
   ]
  },
  {
   "cell_type": "code",
   "execution_count": null,
   "id": "12406527-ac64-481c-af87-9fe0c9be8e8c",
   "metadata": {},
   "outputs": [],
   "source": [
    "## 4.2.4. Print a statement for every letter in ascii_lowercase stating that each letter is your favourite. The variable ascii_lowercase from the string library contains all the lower case letters of the alphebet.\n"
   ]
  },
  {
   "cell_type": "code",
   "execution_count": null,
   "id": "31d6dd50-aef3-44ac-bf3b-a56a73626416",
   "metadata": {},
   "outputs": [],
   "source": [
    "## 4.2.5. Print a statement for every letter in ascii_lowercase stating that each letter is your favourite. The variable ascii_lowercase from the string library contains all the lower case letters of the alphebet.\n"
   ]
  },
  {
   "cell_type": "code",
   "execution_count": null,
   "id": "21e5caf9-9447-43c9-ad9d-62752662de81",
   "metadata": {},
   "outputs": [],
   "source": [
    "## 4.3 while Loops\n",
    "## 4.3.1. Print a list of numbers that are multiple of 10 smaller than 100 \n"
   ]
  },
  {
   "cell_type": "code",
   "execution_count": null,
   "id": "9128a88e-8b21-484e-8397-16ff9dcf0efc",
   "metadata": {},
   "outputs": [],
   "source": [
    "## 4.3.2. Print random numbers generated using uniform(0,1) from the random library until a number is printed that is greater than 0.8. Break the code once you've printed 5 numbers. \n"
   ]
  },
  {
   "cell_type": "code",
   "execution_count": null,
   "id": "ca63053c-f1ad-40e6-90de-4b80a1e68c91",
   "metadata": {},
   "outputs": [],
   "source": [
    "## 4.3.3. Sum the items in the list z = [12, 45, 47, 82, 9, 10\n"
   ]
  },
  {
   "cell_type": "code",
   "execution_count": null,
   "id": "34dcb742-1bc6-4907-80d2-5322cd2201f1",
   "metadata": {},
   "outputs": [],
   "source": [
    "## 4.3.4. Ask for user inputs of numbers, stop is the user inputs 0. (The function for user input is input())\n"
   ]
  },
  {
   "cell_type": "code",
   "execution_count": null,
   "id": "bf959dec-7c9d-40f5-89a9-2a2bac42e3c1",
   "metadata": {},
   "outputs": [],
   "source": [
    "## 4.3.5. Find the factorial of a given number.\n"
   ]
  },
  {
   "cell_type": "code",
   "execution_count": null,
   "id": "b017bda0-c597-43c8-974d-8a48b38c1eda",
   "metadata": {},
   "outputs": [],
   "source": [
    "# Q5 - Functions"
   ]
  },
  {
   "cell_type": "code",
   "execution_count": null,
   "id": "1c94d04f-5981-4fd6-b47c-5a5cc6cf847e",
   "metadata": {},
   "outputs": [],
   "source": []
  },
  {
   "cell_type": "code",
   "execution_count": null,
   "id": "da4698d1-90cf-4dc0-9c35-05e91418f8a3",
   "metadata": {},
   "outputs": [],
   "source": []
  },
  {
   "cell_type": "code",
   "execution_count": null,
   "id": "2f41061a-2415-44f0-a416-e2d9147a7f46",
   "metadata": {},
   "outputs": [],
   "source": []
  },
  {
   "cell_type": "code",
   "execution_count": null,
   "id": "57973891-3738-465b-87a5-4b5c44a236fc",
   "metadata": {},
   "outputs": [],
   "source": []
  },
  {
   "cell_type": "code",
   "execution_count": null,
   "id": "2a4049ec-7749-4d26-9136-2c4065d5ab98",
   "metadata": {},
   "outputs": [],
   "source": []
  },
  {
   "cell_type": "code",
   "execution_count": null,
   "id": "63bde9a5-1861-4aed-890b-0dd5119a39ff",
   "metadata": {},
   "outputs": [],
   "source": []
  },
  {
   "cell_type": "code",
   "execution_count": null,
   "id": "24208463-7509-4acf-a4de-259b2af136b5",
   "metadata": {},
   "outputs": [],
   "source": []
  },
  {
   "cell_type": "code",
   "execution_count": null,
   "id": "54f11550-1d48-46d7-a8c6-44768b4d1f7a",
   "metadata": {},
   "outputs": [],
   "source": []
  },
  {
   "cell_type": "code",
   "execution_count": null,
   "id": "78c880f2-41be-4d40-a67c-f0fb89a7f3d9",
   "metadata": {},
   "outputs": [],
   "source": []
  },
  {
   "cell_type": "code",
   "execution_count": null,
   "id": "23e2be52-d269-4989-9786-8c4c4b5a552a",
   "metadata": {},
   "outputs": [],
   "source": []
  },
  {
   "cell_type": "code",
   "execution_count": null,
   "id": "16029ced-f00f-42ee-9f18-301cf0e2057d",
   "metadata": {},
   "outputs": [],
   "source": []
  },
  {
   "cell_type": "code",
   "execution_count": null,
   "id": "bb220cd2-90df-4dfb-b848-54ff50137211",
   "metadata": {},
   "outputs": [],
   "source": []
  },
  {
   "cell_type": "code",
   "execution_count": null,
   "id": "9b26717a-ecbe-48e1-a4db-11cd35fd9bac",
   "metadata": {},
   "outputs": [],
   "source": []
  },
  {
   "cell_type": "code",
   "execution_count": null,
   "id": "7be7284e-64da-42ea-9e77-6e6fedf3021a",
   "metadata": {},
   "outputs": [],
   "source": []
  },
  {
   "cell_type": "code",
   "execution_count": null,
   "id": "bb979b93-fa18-49ef-8e45-ad8071b5bae7",
   "metadata": {},
   "outputs": [],
   "source": []
  },
  {
   "cell_type": "code",
   "execution_count": null,
   "id": "09aeed31-6a61-4035-a0c8-00883bc0fd30",
   "metadata": {},
   "outputs": [],
   "source": []
  },
  {
   "cell_type": "code",
   "execution_count": null,
   "id": "4e7ef5a5-628e-4b5c-a2a9-58820ccd59e9",
   "metadata": {},
   "outputs": [],
   "source": []
  }
 ],
 "metadata": {
  "kernelspec": {
   "display_name": "Python 3 (ipykernel)",
   "language": "python",
   "name": "python3"
  },
  "language_info": {
   "codemirror_mode": {
    "name": "ipython",
    "version": 3
   },
   "file_extension": ".py",
   "mimetype": "text/x-python",
   "name": "python",
   "nbconvert_exporter": "python",
   "pygments_lexer": "ipython3",
   "version": "3.11.7"
  }
 },
 "nbformat": 4,
 "nbformat_minor": 5
}
